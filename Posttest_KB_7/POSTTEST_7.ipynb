{
 "cells": [
  {
   "cell_type": "markdown",
   "id": "5827bd53",
   "metadata": {},
   "source": [
    "### Import library TensorFlow"
   ]
  },
  {
   "cell_type": "code",
   "execution_count": 3,
   "id": "6f0e32d2",
   "metadata": {},
   "outputs": [],
   "source": [
    "import tensorflow as tf\n",
    "import numpy as np"
   ]
  },
  {
   "cell_type": "markdown",
   "id": "61845c59",
   "metadata": {},
   "source": [
    "### Tensor nilai random dengan shape (5,5)"
   ]
  },
  {
   "cell_type": "code",
   "execution_count": 4,
   "id": "95093187",
   "metadata": {},
   "outputs": [
    {
     "data": {
      "text/plain": [
       "array([[-0.79,  0.71, -0.62, -2.4 , -0.18],\n",
       "       [ 0.09, -0.48,  1.92,  0.63, -0.58],\n",
       "       [ 1.74, -1.73,  1.59,  0.21, -1.27],\n",
       "       [ 0.91,  0.89,  0.17,  1.43,  1.46],\n",
       "       [ 0.62,  0.36,  1.71, -1.92,  2.35]], dtype=float32)"
      ]
     },
     "execution_count": 4,
     "metadata": {},
     "output_type": "execute_result"
    }
   ],
   "source": [
    "random_tensor = np.around(tf.random.normal([5,5]).numpy(), 2)\n",
    "random_tensor"
   ]
  },
  {
   "cell_type": "markdown",
   "id": "f3ddf974",
   "metadata": {},
   "source": [
    "### Tensor dengan shape (5,5) dari list bilangan prima"
   ]
  },
  {
   "cell_type": "code",
   "execution_count": 5,
   "id": "7fa3a76a",
   "metadata": {},
   "outputs": [
    {
     "data": {
      "text/plain": [
       "<tf.Tensor: shape=(5, 5), dtype=int32, numpy=\n",
       "array([[ 2,  3,  5,  7, 11],\n",
       "       [13, 17, 19, 23, 29],\n",
       "       [31, 37, 41, 43, 47],\n",
       "       [53, 59, 61, 67, 71],\n",
       "       [73, 79, 83, 89, 97]])>"
      ]
     },
     "execution_count": 5,
     "metadata": {},
     "output_type": "execute_result"
    }
   ],
   "source": [
    "list = [2, 3, 5, 7, 11, 13, 17, 19, 23, 29, 31, 37, 41, 43, 47, 53, 59, 61, 67, 71, 73, 79, 83, 89, 97]\n",
    "\n",
    "tf.convert_to_tensor(list, dtype=tf.int32)\n",
    "prime_tensor = tf.reshape(list, (5,5))\n",
    "prime_tensor"
   ]
  },
  {
   "cell_type": "markdown",
   "id": "214b880e",
   "metadata": {},
   "source": [
    "### Menampilkan dimensi dari random_tensor dan prime_tensor"
   ]
  },
  {
   "cell_type": "code",
   "execution_count": 6,
   "id": "d78b78f1",
   "metadata": {},
   "outputs": [
    {
     "name": "stdout",
     "output_type": "stream",
     "text": [
      "tf.Tensor([5 5], shape=(2,), dtype=int32)\n",
      "tf.Tensor([5 5], shape=(2,), dtype=int32)\n"
     ]
    }
   ],
   "source": [
    "print(tf.shape(random_tensor))\n",
    "print(tf.shape(prime_tensor))"
   ]
  },
  {
   "cell_type": "markdown",
   "id": "e261302d",
   "metadata": {},
   "source": [
    "### Perhitungan Aritmetika (Min. 5)"
   ]
  },
  {
   "cell_type": "markdown",
   "id": "2daaf55f",
   "metadata": {},
   "source": [
    "#### Pengurangan"
   ]
  },
  {
   "cell_type": "code",
   "execution_count": 7,
   "id": "d9516a76",
   "metadata": {},
   "outputs": [
    {
     "data": {
      "text/plain": [
       "<tf.Tensor: shape=(5, 5), dtype=int32, numpy=\n",
       "array([[ -2,  -3,  -5,  -9, -11],\n",
       "       [-13, -17, -18, -23, -29],\n",
       "       [-30, -38, -40, -43, -48],\n",
       "       [-53, -59, -61, -66, -70],\n",
       "       [-73, -79, -82, -90, -95]])>"
      ]
     },
     "execution_count": 7,
     "metadata": {},
     "output_type": "execute_result"
    }
   ],
   "source": [
    "tf.subtract(random_tensor, prime_tensor)"
   ]
  },
  {
   "cell_type": "markdown",
   "id": "41848fb9",
   "metadata": {},
   "source": [
    "#### Perkalian"
   ]
  },
  {
   "cell_type": "code",
   "execution_count": 8,
   "id": "24eaa168",
   "metadata": {},
   "outputs": [
    {
     "data": {
      "text/plain": [
       "<tf.Tensor: shape=(5, 5), dtype=int32, numpy=\n",
       "array([[  0,   0,   0, -14,   0],\n",
       "       [  0,   0,  19,   0,   0],\n",
       "       [ 31, -37,  41,   0, -47],\n",
       "       [  0,   0,   0,  67,  71],\n",
       "       [  0,   0,  83, -89, 194]])>"
      ]
     },
     "execution_count": 8,
     "metadata": {},
     "output_type": "execute_result"
    }
   ],
   "source": [
    "tf.multiply(random_tensor, prime_tensor)"
   ]
  },
  {
   "cell_type": "markdown",
   "id": "73603353",
   "metadata": {},
   "source": [
    "#### Pembagian"
   ]
  },
  {
   "cell_type": "code",
   "execution_count": 9,
   "id": "42234ebc",
   "metadata": {},
   "outputs": [
    {
     "data": {
      "text/plain": [
       "<tf.Tensor: shape=(5, 5), dtype=float64, numpy=\n",
       "array([[ 0.        ,  0.        ,  0.        , -0.28571429,  0.        ],\n",
       "       [ 0.        ,  0.        ,  0.05263158,  0.        ,  0.        ],\n",
       "       [ 0.03225806, -0.02702703,  0.02439024,  0.        , -0.0212766 ],\n",
       "       [ 0.        ,  0.        ,  0.        ,  0.01492537,  0.01408451],\n",
       "       [ 0.        ,  0.        ,  0.01204819, -0.01123596,  0.02061856]])>"
      ]
     },
     "execution_count": 9,
     "metadata": {},
     "output_type": "execute_result"
    }
   ],
   "source": [
    "tf.divide(random_tensor, prime_tensor)"
   ]
  },
  {
   "cell_type": "markdown",
   "id": "35a21c8f",
   "metadata": {},
   "source": [
    "#### Log"
   ]
  },
  {
   "cell_type": "code",
   "execution_count": 10,
   "id": "8ecfd40b",
   "metadata": {},
   "outputs": [
    {
     "data": {
      "text/plain": [
       "<tf.Tensor: shape=(5, 5), dtype=float32, numpy=\n",
       "array([[        nan, -0.34249035,         nan,         nan,         nan],\n",
       "       [-2.4079456 ,         nan,  0.65232515, -0.46203548,         nan],\n",
       "       [ 0.5538851 ,         nan,  0.46373406, -1.5606477 ,         nan],\n",
       "       [-0.09431066, -0.11653383, -1.7719568 ,  0.35767445,  0.37843648],\n",
       "       [-0.4780358 , -1.0216513 ,  0.5364934 ,         nan,  0.8544153 ]],\n",
       "      dtype=float32)>"
      ]
     },
     "execution_count": 10,
     "metadata": {},
     "output_type": "execute_result"
    }
   ],
   "source": [
    "tf.math.log(random_tensor, prime_tensor)"
   ]
  },
  {
   "cell_type": "markdown",
   "id": "53fce78a",
   "metadata": {},
   "source": [
    "#### Pangkat"
   ]
  },
  {
   "cell_type": "code",
   "execution_count": 11,
   "id": "52cba086",
   "metadata": {},
   "outputs": [
    {
     "data": {
      "text/plain": [
       "<tf.Tensor: shape=(5, 5), dtype=int32, numpy=\n",
       "array([[   0,    0,    0, -128,    0],\n",
       "       [   0,    0,    1,    0,    0],\n",
       "       [   1,   -1,    1,    0,   -1],\n",
       "       [   0,    0,    0,    1,    1],\n",
       "       [   0,    0,    1,   -1,    0]])>"
      ]
     },
     "execution_count": 11,
     "metadata": {},
     "output_type": "execute_result"
    }
   ],
   "source": [
    "tf.pow(random_tensor, prime_tensor)"
   ]
  },
  {
   "cell_type": "markdown",
   "id": "536eec73",
   "metadata": {},
   "source": [
    "### Nilai maksimal dan minimal dari variable random_tensor"
   ]
  },
  {
   "cell_type": "code",
   "execution_count": 12,
   "id": "f75383bc",
   "metadata": {},
   "outputs": [
    {
     "data": {
      "text/plain": [
       "array([2, 3, 1, 3, 4], dtype=int64)"
      ]
     },
     "execution_count": 12,
     "metadata": {},
     "output_type": "execute_result"
    }
   ],
   "source": [
    "tf.argmax(random_tensor, axis=0).numpy()\n"
   ]
  },
  {
   "cell_type": "code",
   "execution_count": 13,
   "id": "db42f84f",
   "metadata": {},
   "outputs": [
    {
     "data": {
      "text/plain": [
       "array([0, 2, 0, 0, 2], dtype=int64)"
      ]
     },
     "execution_count": 13,
     "metadata": {},
     "output_type": "execute_result"
    }
   ],
   "source": [
    "tf.argmin(random_tensor, axis=0).numpy()"
   ]
  },
  {
   "cell_type": "markdown",
   "id": "6bc632ea",
   "metadata": {},
   "source": [
    "### Concatenation(Penggabungan) dari random_tensor dan prime_tensor"
   ]
  },
  {
   "cell_type": "code",
   "execution_count": 14,
   "id": "e135f064",
   "metadata": {},
   "outputs": [
    {
     "data": {
      "text/plain": [
       "<tf.Tensor: shape=(5, 10), dtype=int32, numpy=\n",
       "array([[ 0,  0,  0, -2,  0,  2,  3,  5,  7, 11],\n",
       "       [ 0,  0,  1,  0,  0, 13, 17, 19, 23, 29],\n",
       "       [ 1, -1,  1,  0, -1, 31, 37, 41, 43, 47],\n",
       "       [ 0,  0,  0,  1,  1, 53, 59, 61, 67, 71],\n",
       "       [ 0,  0,  1, -1,  2, 73, 79, 83, 89, 97]])>"
      ]
     },
     "execution_count": 14,
     "metadata": {},
     "output_type": "execute_result"
    }
   ],
   "source": [
    "concat = tf.concat([random_tensor, prime_tensor], axis=1)\n",
    "concat"
   ]
  },
  {
   "cell_type": "markdown",
   "id": "1658ce1c",
   "metadata": {},
   "source": [
    "### Descending Sort"
   ]
  },
  {
   "cell_type": "code",
   "execution_count": 17,
   "id": "6f348ce9",
   "metadata": {},
   "outputs": [
    {
     "data": {
      "text/plain": [
       "array([[ 0.71, -0.18, -0.62, -0.79, -2.4 ],\n",
       "       [ 1.92,  0.63,  0.09, -0.48, -0.58],\n",
       "       [ 1.74,  1.59,  0.21, -1.27, -1.73],\n",
       "       [ 1.46,  1.43,  0.91,  0.89,  0.17],\n",
       "       [ 2.35,  1.71,  0.62,  0.36, -1.92]], dtype=float32)"
      ]
     },
     "execution_count": 17,
     "metadata": {},
     "output_type": "execute_result"
    }
   ],
   "source": [
    "dc = tf.sort(random_tensor, direction=\"DESCENDING\")\n",
    "dc.numpy()"
   ]
  },
  {
   "cell_type": "code",
   "execution_count": 18,
   "id": "d82b8b52",
   "metadata": {},
   "outputs": [
    {
     "data": {
      "text/plain": [
       "array([[11,  7,  5,  3,  2],\n",
       "       [29, 23, 19, 17, 13],\n",
       "       [47, 43, 41, 37, 31],\n",
       "       [71, 67, 61, 59, 53],\n",
       "       [97, 89, 83, 79, 73]])"
      ]
     },
     "execution_count": 18,
     "metadata": {},
     "output_type": "execute_result"
    }
   ],
   "source": [
    "ds = tf.sort(prime_tensor, direction=\"DESCENDING\")\n",
    "ds.numpy()"
   ]
  }
 ],
 "metadata": {
  "kernelspec": {
   "display_name": "Python 3 (ipykernel)",
   "language": "python",
   "name": "python3"
  },
  "language_info": {
   "codemirror_mode": {
    "name": "ipython",
    "version": 3
   },
   "file_extension": ".py",
   "mimetype": "text/x-python",
   "name": "python",
   "nbconvert_exporter": "python",
   "pygments_lexer": "ipython3",
   "version": "3.10.7"
  }
 },
 "nbformat": 4,
 "nbformat_minor": 5
}
