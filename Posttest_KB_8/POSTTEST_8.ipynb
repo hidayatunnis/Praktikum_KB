{
 "cells": [
  {
   "cell_type": "markdown",
   "id": "f281e150",
   "metadata": {},
   "source": [
    "## Import Library"
   ]
  },
  {
   "cell_type": "code",
   "execution_count": 1,
   "id": "50ae246d",
   "metadata": {},
   "outputs": [],
   "source": [
    "import tensorflow as tf\n",
    "from tensorflow.keras import layers, optimizers\n",
    "from tensorflow.keras import datasets as dts\n",
    "import matplotlib.pyplot as plt\n",
    "import numpy as np"
   ]
  },
  {
   "cell_type": "markdown",
   "id": "b0c958f0",
   "metadata": {},
   "source": [
    "## me-load dan mambagi dataset"
   ]
  },
  {
   "cell_type": "code",
   "execution_count": 2,
   "id": "b60f691a",
   "metadata": {},
   "outputs": [],
   "source": [
    "(x_train, y_train),(x_test, y_test) = dts.boston_housing.load_data()"
   ]
  },
  {
   "cell_type": "markdown",
   "id": "3ea4dd80",
   "metadata": {},
   "source": [
    "## melihat panjang setiap set"
   ]
  },
  {
   "cell_type": "code",
   "execution_count": 3,
   "id": "83d34d9c",
   "metadata": {
    "scrolled": true
   },
   "outputs": [
    {
     "name": "stdout",
     "output_type": "stream",
     "text": [
      "panjang x train : 404 \n",
      "panjang y train : 404 \n",
      "panjang x test : 102 \n",
      "panjang y test : 102 \n"
     ]
    }
   ],
   "source": [
    "print(f'panjang x train : {len(x_train)} ',\n",
    "      f'panjang y train : {len(y_train)} ',\n",
    "      f'panjang x test : {len(x_test)} ',\n",
    "      f'panjang y test : {len(y_test)} ',\n",
    "      sep='\\n')"
   ]
  },
  {
   "cell_type": "markdown",
   "id": "85b836ee",
   "metadata": {},
   "source": [
    "## membuat copy dari test set"
   ]
  },
  {
   "cell_type": "code",
   "execution_count": 4,
   "id": "c797e977",
   "metadata": {},
   "outputs": [],
   "source": [
    "simpan_x_test = x_test.copy()"
   ]
  },
  {
   "cell_type": "markdown",
   "id": "0882c5e6",
   "metadata": {},
   "source": [
    "## mengubah dataset ke bentuk matrix"
   ]
  },
  {
   "cell_type": "code",
   "execution_count": 5,
   "id": "58a1b8d4",
   "metadata": {},
   "outputs": [],
   "source": [
    "y_train = tf.keras.utils.to_categorical(y_train, num_classes = None, dtype='float32')\n",
    "y_test = tf.keras.utils.to_categorical(y_test, num_classes = None, dtype='float32')"
   ]
  },
  {
   "cell_type": "markdown",
   "id": "5edbff59",
   "metadata": {},
   "source": [
    "## Melihat masing-msing dimensi set"
   ]
  },
  {
   "cell_type": "code",
   "execution_count": 6,
   "id": "7a43f922",
   "metadata": {
    "scrolled": true
   },
   "outputs": [
    {
     "name": "stdout",
     "output_type": "stream",
     "text": [
      "x train data : (404, 13)\n",
      "y train data : (404, 51)\n",
      "x test data : (102, 13)\n",
      "y test data : (102, 51)\n"
     ]
    }
   ],
   "source": [
    "print(f'x train data : {x_train.shape}')\n",
    "print(f'y train data : {y_train.shape}')\n",
    "print(f'x test data : {x_test.shape}')\n",
    "print(f'y test data : {y_test.shape}')"
   ]
  },
  {
   "cell_type": "code",
   "execution_count": 7,
   "id": "d84ed7d3",
   "metadata": {},
   "outputs": [],
   "source": [
    "x_train = x_train.astype('float32')/255\n",
    "x_test = x_test.astype('float32')/255"
   ]
  },
  {
   "cell_type": "markdown",
   "id": "f2d6cfad",
   "metadata": {},
   "source": [
    "## membuat model sequential"
   ]
  },
  {
   "cell_type": "code",
   "execution_count": 8,
   "id": "c3017617",
   "metadata": {},
   "outputs": [],
   "source": [
    "model = tf.keras.Sequential([\n",
    "    tf.keras.layers.Dense(51, activation='relu', input_dim=13),\n",
    "    tf.keras.layers.Dense(51, activation = 'softmax')\n",
    "])"
   ]
  },
  {
   "cell_type": "code",
   "execution_count": 9,
   "id": "cafa6e2a",
   "metadata": {
    "scrolled": true
   },
   "outputs": [
    {
     "name": "stdout",
     "output_type": "stream",
     "text": [
      "Model: \"sequential\"\n",
      "_________________________________________________________________\n",
      " Layer (type)                Output Shape              Param #   \n",
      "=================================================================\n",
      " dense (Dense)               (None, 51)                714       \n",
      "                                                                 \n",
      " dense_1 (Dense)             (None, 51)                2652      \n",
      "                                                                 \n",
      "=================================================================\n",
      "Total params: 3,366\n",
      "Trainable params: 3,366\n",
      "Non-trainable params: 0\n",
      "_________________________________________________________________\n"
     ]
    }
   ],
   "source": [
    "model.summary()"
   ]
  },
  {
   "cell_type": "markdown",
   "id": "ced52bd4",
   "metadata": {},
   "source": [
    "## meng-compile model"
   ]
  },
  {
   "cell_type": "code",
   "execution_count": 10,
   "id": "9c1a8d00",
   "metadata": {},
   "outputs": [],
   "source": [
    "model.compile(\n",
    "    optimizer=tf.keras.optimizers.Adam(),\n",
    "    loss=tf.keras.losses.categorical_crossentropy,\n",
    "    metrics=['accuracy']\n",
    ")"
   ]
  },
  {
   "cell_type": "markdown",
   "id": "3bd68688",
   "metadata": {},
   "source": [
    "## training model"
   ]
  },
  {
   "cell_type": "code",
   "execution_count": 11,
   "id": "31921b2f",
   "metadata": {
    "scrolled": true
   },
   "outputs": [
    {
     "name": "stdout",
     "output_type": "stream",
     "text": [
      "Epoch 1/20\n",
      "24/24 - 1s - loss: 3.8540 - accuracy: 0.0198 - val_loss: 3.8356 - val_accuracy: 0.0196 - 803ms/epoch - 33ms/step\n",
      "Epoch 2/20\n",
      "24/24 - 0s - loss: 3.7320 - accuracy: 0.0668 - val_loss: 3.7394 - val_accuracy: 0.0490 - 110ms/epoch - 5ms/step\n",
      "Epoch 3/20\n",
      "24/24 - 0s - loss: 3.6066 - accuracy: 0.1089 - val_loss: 3.6487 - val_accuracy: 0.0882 - 90ms/epoch - 4ms/step\n",
      "Epoch 4/20\n",
      "24/24 - 0s - loss: 3.4866 - accuracy: 0.0916 - val_loss: 3.5727 - val_accuracy: 0.0980 - 90ms/epoch - 4ms/step\n",
      "Epoch 5/20\n",
      "24/24 - 0s - loss: 3.3879 - accuracy: 0.0965 - val_loss: 3.5302 - val_accuracy: 0.0882 - 100ms/epoch - 4ms/step\n",
      "Epoch 6/20\n",
      "24/24 - 0s - loss: 3.3257 - accuracy: 0.1188 - val_loss: 3.5169 - val_accuracy: 0.0490 - 120ms/epoch - 5ms/step\n",
      "Epoch 7/20\n",
      "24/24 - 0s - loss: 3.2826 - accuracy: 0.0941 - val_loss: 3.5071 - val_accuracy: 0.0392 - 103ms/epoch - 4ms/step\n",
      "Epoch 8/20\n",
      "24/24 - 0s - loss: 3.2579 - accuracy: 0.0941 - val_loss: 3.4996 - val_accuracy: 0.0588 - 97ms/epoch - 4ms/step\n",
      "Epoch 9/20\n",
      "24/24 - 0s - loss: 3.2344 - accuracy: 0.1163 - val_loss: 3.4896 - val_accuracy: 0.0882 - 108ms/epoch - 5ms/step\n",
      "Epoch 10/20\n",
      "24/24 - 0s - loss: 3.2147 - accuracy: 0.1139 - val_loss: 3.4867 - val_accuracy: 0.0686 - 98ms/epoch - 4ms/step\n",
      "Epoch 11/20\n",
      "24/24 - 0s - loss: 3.1947 - accuracy: 0.1114 - val_loss: 3.4880 - val_accuracy: 0.0784 - 110ms/epoch - 5ms/step\n",
      "Epoch 12/20\n",
      "24/24 - 0s - loss: 3.1787 - accuracy: 0.1188 - val_loss: 3.4752 - val_accuracy: 0.0882 - 88ms/epoch - 4ms/step\n",
      "Epoch 13/20\n",
      "24/24 - 0s - loss: 3.1654 - accuracy: 0.1163 - val_loss: 3.4703 - val_accuracy: 0.0882 - 80ms/epoch - 3ms/step\n",
      "Epoch 14/20\n",
      "24/24 - 0s - loss: 3.1533 - accuracy: 0.1287 - val_loss: 3.4526 - val_accuracy: 0.0882 - 100ms/epoch - 4ms/step\n",
      "Epoch 15/20\n",
      "24/24 - 0s - loss: 3.1392 - accuracy: 0.1287 - val_loss: 3.4480 - val_accuracy: 0.0882 - 120ms/epoch - 5ms/step\n",
      "Epoch 16/20\n",
      "24/24 - 0s - loss: 3.1254 - accuracy: 0.1312 - val_loss: 3.4412 - val_accuracy: 0.0882 - 110ms/epoch - 5ms/step\n",
      "Epoch 17/20\n",
      "24/24 - 0s - loss: 3.1155 - accuracy: 0.1436 - val_loss: 3.4352 - val_accuracy: 0.0882 - 110ms/epoch - 5ms/step\n",
      "Epoch 18/20\n",
      "24/24 - 0s - loss: 3.1073 - accuracy: 0.1262 - val_loss: 3.4242 - val_accuracy: 0.0882 - 110ms/epoch - 5ms/step\n",
      "Epoch 19/20\n",
      "24/24 - 0s - loss: 3.0942 - accuracy: 0.1361 - val_loss: 3.4232 - val_accuracy: 0.0882 - 80ms/epoch - 3ms/step\n",
      "Epoch 20/20\n",
      "24/24 - 0s - loss: 3.0853 - accuracy: 0.1337 - val_loss: 3.4192 - val_accuracy: 0.0882 - 70ms/epoch - 3ms/step\n"
     ]
    }
   ],
   "source": [
    "history = model.fit(\n",
    "    x_train, y_train,\n",
    "    epochs=20,\n",
    "    steps_per_epoch = 24,\n",
    "    verbose=2,\n",
    "    validation_data=(x_test, y_test)\n",
    ")"
   ]
  },
  {
   "cell_type": "markdown",
   "id": "f7ecca56",
   "metadata": {},
   "source": [
    "## mengevaluasi model"
   ]
  },
  {
   "cell_type": "code",
   "execution_count": 20,
   "id": "c549eda0",
   "metadata": {},
   "outputs": [
    {
     "name": "stdout",
     "output_type": "stream",
     "text": [
      "Test loss: 3.419245481491089\n",
      "Test accuracy: 0.0882352963089943\n"
     ]
    }
   ],
   "source": [
    "score = model.evaluate(\n",
    "    x_test, \n",
    "    y_test, \n",
    "    verbose=0\n",
    ") \n",
    "print('Test loss:', score[0]) \n",
    "print('Test accuracy:', score[1])"
   ]
  },
  {
   "cell_type": "markdown",
   "id": "c3fa9f20",
   "metadata": {},
   "source": [
    "## Visualisasi akurasi model"
   ]
  },
  {
   "cell_type": "code",
   "execution_count": 12,
   "id": "b5eca8a7",
   "metadata": {},
   "outputs": [
    {
     "data": {
      "image/png": "[encoded data removed]",
      "text/plain": [
       "<Figure size 640x480 with 1 Axes>"
      ]
     },
     "metadata": {},
     "output_type": "display_data"
    }
   ],
   "source": [
    "plt.plot(range(len(history.history['accuracy'])),\n",
    "        history.history['accuracy'],\n",
    "        label='Training')\n",
    "plt.plot(range(len(history.history['val_accuracy'])),\n",
    "        history.history['val_accuracy'],\n",
    "        label='Testing')\n",
    "plt.title(\"Akurasi\")\n",
    "plt.legend()\n",
    "plt.show()"
   ]
  },
  {
   "cell_type": "markdown",
   "id": "93cc800b",
   "metadata": {},
   "source": [
    "## Visualisasi loss model"
   ]
  },
  {
   "cell_type": "code",
   "execution_count": 13,
   "id": "b719e1b8",
   "metadata": {
    "scrolled": true
   },
   "outputs": [
    {
     "data": {
      "image/png": "[encoded data removed]",
      "text/plain": [
       "<Figure size 640x480 with 1 Axes>"
      ]
     },
     "metadata": {},
     "output_type": "display_data"
    }
   ],
   "source": [
    "plt.plot(range(len(history.history['loss'])),\n",
    "        history.history['loss'],\n",
    "        label='Training')\n",
    "plt.plot(range(len(history.history['val_loss'])),\n",
    "        history.history['val_loss'],\n",
    "        label='Validation')\n",
    "plt.title(\"Loss\")\n",
    "plt.legend()\n",
    "plt.show()"
   ]
  },
  {
   "cell_type": "markdown",
   "id": "13ea388d",
   "metadata": {},
   "source": [
    "## saving the model"
   ]
  },
  {
   "cell_type": "code",
   "execution_count": 14,
   "id": "7a0fae9f",
   "metadata": {},
   "outputs": [],
   "source": [
    "model.save('model/save_model.h5')"
   ]
  },
  {
   "cell_type": "markdown",
   "id": "fe246fb5",
   "metadata": {},
   "source": [
    "## Loading the model that saved before"
   ]
  },
  {
   "cell_type": "code",
   "execution_count": 15,
   "id": "5e2c5529",
   "metadata": {},
   "outputs": [],
   "source": [
    "save_model = tf.keras.models.load_model('model/save_model.h5')"
   ]
  },
  {
   "cell_type": "markdown",
   "id": "1b35bcdf",
   "metadata": {},
   "source": [
    "## using predict to see the result"
   ]
  },
  {
   "cell_type": "code",
   "execution_count": 17,
   "id": "2252ba90",
   "metadata": {},
   "outputs": [
    {
     "name": "stdout",
     "output_type": "stream",
     "text": [
      "4/4 [==============================] - 0s 3ms/step\n"
     ]
    }
   ],
   "source": [
    "hasil = save_model.predict(x_test)"
   ]
  },
  {
   "cell_type": "markdown",
   "id": "826bba41",
   "metadata": {},
   "source": [
    "## to see the result shape"
   ]
  },
  {
   "cell_type": "code",
   "execution_count": 18,
   "id": "d3e56f40",
   "metadata": {},
   "outputs": [
    {
     "data": {
      "text/plain": [
       "(102, 51)"
      ]
     },
     "execution_count": 18,
     "metadata": {},
     "output_type": "execute_result"
    }
   ],
   "source": [
    "hasil.shape"
   ]
  },
  {
   "cell_type": "markdown",
   "id": "2d0b6558",
   "metadata": {},
   "source": [
    "## maximum value from the result in index 5 in numpy"
   ]
  },
  {
   "cell_type": "code",
   "execution_count": 21,
   "id": "3e3ad0b7",
   "metadata": {},
   "outputs": [
    {
     "data": {
      "text/plain": [
       "19"
      ]
     },
     "execution_count": 21,
     "metadata": {},
     "output_type": "execute_result"
    }
   ],
   "source": [
    "tf.argmax(hasil[5]).numpy()"
   ]
  }
 ],
 "metadata": {
  "kernelspec": {
   "display_name": "Python 3 (ipykernel)",
   "language": "python",
   "name": "python3"
  },
  "language_info": {
   "codemirror_mode": {
    "name": "ipython",
    "version": 3
   },
   "file_extension": ".py",
   "mimetype": "text/x-python",
   "name": "python",
   "nbconvert_exporter": "python",
   "pygments_lexer": "ipython3",
   "version": "3.10.7"
  }
 },
 "nbformat": 4,
 "nbformat_minor": 5
}
